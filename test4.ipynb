{
 "cells": [
  {
   "cell_type": "code",
   "execution_count": 1,
   "metadata": {},
   "outputs": [
    {
     "name": "stdout",
     "output_type": "stream",
     "text": [
      "2D Array of Scores (Each row represents a student's scores):\n",
      "[[85 88 90]\n",
      " [92 85 88]\n",
      " [78 92 85]\n",
      " [95 89 92]\n",
      " [88 94 86]\n",
      " [90 87 91]]\n",
      "\n",
      "Shape of array: (6, 3)\n",
      "\n",
      "Mean Scores:\n",
      "Math: 88.00\n",
      "Science: 89.17\n",
      "English: 88.67\n",
      "\n",
      "Total Scores for each student:\n",
      "John: 263\n",
      "Emma: 265\n",
      "Michael: 255\n",
      "Sarah: 276\n",
      "David: 268\n",
      "Lisa: 268\n",
      "\n",
      "Student with highest total score: Sarah\n",
      "Highest total score: 276\n"
     ]
    }
   ],
   "source": [
    "import numpy as np\n",
    "\n",
    "# Creating sample student data\n",
    "students = {\n",
    "    'Name': ['John', 'Emma', 'Michael', 'Sarah', 'David', 'Lisa'],\n",
    "    'Math_Score': [85, 92, 78, 95, 88, 90],\n",
    "    'Science_Score': [88, 85, 92, 89, 94, 87],\n",
    "    'English_Score': [90, 88, 85, 92, 86, 91]\n",
    "}\n",
    "\n",
    "# Converting scores into a 2D numpy array\n",
    "scores_array = np.array([\n",
    "    students['Math_Score'],\n",
    "    students['Science_Score'],\n",
    "    students['English_Score']\n",
    "]).T\n",
    "\n",
    "print(\"2D Array of Scores (Each row represents a student's scores):\")\n",
    "print(scores_array)\n",
    "print(\"\\nShape of array:\", scores_array.shape)\n",
    "\n",
    "# Calculating mean for each subject\n",
    "subject_means = np.mean(scores_array, axis=0)\n",
    "print(\"\\nMean Scores:\")\n",
    "print(f\"Math: {subject_means[0]:.2f}\")\n",
    "print(f\"Science: {subject_means[1]:.2f}\")\n",
    "print(f\"English: {subject_means[2]:.2f}\")\n",
    "\n",
    "# Calculating total score for each student\n",
    "total_scores = np.sum(scores_array, axis=1)\n",
    "print(\"\\nTotal Scores for each student:\")\n",
    "for name, score in zip(students['Name'], total_scores):\n",
    "    print(f\"{name}: {score}\")\n",
    "\n",
    "# Finding highest total score\n",
    "highest_score_index = np.argmax(total_scores)\n",
    "print(f\"\\nStudent with highest total score: {students['Name'][highest_score_index]}\")\n",
    "print(f\"Highest total score: {total_scores[highest_score_index]}\")"
   ]
  }
 ],
 "metadata": {
  "kernelspec": {
   "display_name": "Python 3",
   "language": "python",
   "name": "python3"
  },
  "language_info": {
   "codemirror_mode": {
    "name": "ipython",
    "version": 3
   },
   "file_extension": ".py",
   "mimetype": "text/x-python",
   "name": "python",
   "nbconvert_exporter": "python",
   "pygments_lexer": "ipython3",
   "version": "3.12.3"
  }
 },
 "nbformat": 4,
 "nbformat_minor": 2
}
