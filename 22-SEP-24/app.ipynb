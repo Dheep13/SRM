{
 "cells": [
  {
   "cell_type": "code",
   "execution_count": 15,
   "metadata": {},
   "outputs": [
    {
     "name": "stdout",
     "output_type": "stream",
     "text": [
      "[[1 2 3]\n",
      " [4 5 6]\n",
      " [7 8 9]]\n"
     ]
    }
   ],
   "source": [
    "import numpy as np\n",
    "\n",
    "# Creating a sample NumPy array\n",
    "sample_array = np.array([[1, 2, 3], [4, 5, 6], [7, 8, 9]])\n",
    "\n",
    "print(sample_array)\n"
   ]
  },
  {
   "cell_type": "code",
   "execution_count": 16,
   "metadata": {},
   "outputs": [
    {
     "name": "stdout",
     "output_type": "stream",
     "text": [
      "[4 5 6]\n",
      "[7 8 9]\n"
     ]
    }
   ],
   "source": [
    "print(sample_array[-2])\n",
    "print(sample_array[-1])"
   ]
  },
  {
   "cell_type": "code",
   "execution_count": 17,
   "metadata": {},
   "outputs": [
    {
     "name": "stdout",
     "output_type": "stream",
     "text": [
      "(3, 3)\n"
     ]
    }
   ],
   "source": [
    "print(sample_array.shape)"
   ]
  },
  {
   "cell_type": "code",
   "execution_count": 18,
   "metadata": {},
   "outputs": [
    {
     "name": "stdout",
     "output_type": "stream",
     "text": [
      "Greater than 5:\n",
      "[False False False False False  True  True  True  True  True]\n",
      "\n",
      "Less than or equal to 3:\n",
      "[ True  True  True False False False False False False False]\n",
      "\n",
      "Equal to 7:\n",
      "[False False False False False False  True False False False]\n",
      "\n",
      "Not equal to 5:\n",
      "[ True  True  True  True False  True  True  True  True  True]\n"
     ]
    }
   ],
   "source": [
    "import numpy as np\n",
    "\n",
    "# Basic Comparisons\n",
    "arr = np.array([1, 2, 3, 4, 5, 6, 7, 8, 9, 10])\n",
    "\n",
    "print(\"Greater than 5:\")\n",
    "print(arr > 5)\n",
    "\n",
    "print(\"\\nLess than or equal to 3:\")\n",
    "print(arr <= 3)\n",
    "\n",
    "print(\"\\nEqual to 7:\")\n",
    "print(arr == 7)\n",
    "\n",
    "print(\"\\nNot equal to 5:\")\n",
    "print(arr != 5)\n",
    "\n",
    "\n"
   ]
  },
  {
   "cell_type": "code",
   "execution_count": 19,
   "metadata": {},
   "outputs": [
    {
     "name": "stdout",
     "output_type": "stream",
     "text": [
      "\n",
      "Combining conditions:\n",
      "(arr > 3) & (arr < 8):\n",
      "[False False False  True  True  True  True False False False]\n",
      "\n",
      "(arr < 3) | (arr > 8):\n",
      "[ True  True False False False False False False  True  True]\n",
      "\n",
      "NOT (arr > 5):\n",
      "[ True  True  True  True  True False False False False False]\n",
      "\n",
      "Where function:\n",
      "np.where(arr > 5, arr, 0):\n",
      "[ 0  0  0  0  0  6  7  8  9 10]\n",
      "\n",
      "np.where((arr > 3) & (arr < 8), arr, 0):\n",
      "[0 0 0 4 5 6 7 0 0 0]\n"
     ]
    }
   ],
   "source": [
    "\n",
    "# Combining Conditions\n",
    "print(\"\\nCombining conditions:\")\n",
    "print(\"(arr > 3) & (arr < 8):\")\n",
    "print((arr > 3) & (arr < 8))\n",
    "\n",
    "print(\"\\n(arr < 3) | (arr > 8):\")\n",
    "print((arr < 3) | (arr > 8))\n",
    "\n",
    "print(\"\\nNOT (arr > 5):\")\n",
    "print(~(arr > 5))\n",
    "\n",
    "# Where Function\n",
    "print(\"\\nWhere function:\")\n",
    "result = np.where(arr > 5, arr, 0)\n",
    "print(\"np.where(arr > 5, arr, 0):\")\n",
    "print(result)\n",
    "\n",
    "result = np.where((arr > 3) & (arr < 8), arr, 0)\n",
    "print(\"\\nnp.where((arr > 3) & (arr < 8), arr, 0):\")\n",
    "print(result)"
   ]
  },
  {
   "cell_type": "code",
   "execution_count": 20,
   "metadata": {},
   "outputs": [
    {
     "name": "stdout",
     "output_type": "stream",
     "text": [
      "\n",
      "Indexing with conditions:\n",
      "arr[arr > 5]:\n",
      "[ 6  7  8  9 10]\n",
      "\n",
      "arr[(arr > 3) & (arr < 8)]:\n",
      "[4 5 6 7]\n",
      "\n",
      "Conditions on 2D arrays:\n",
      "arr_2d > 5:\n",
      "[[False False False]\n",
      " [False False  True]\n",
      " [ True  True  True]]\n",
      "\n",
      "arr_2d[arr_2d > 5]:\n",
      "[6 7 8 9]\n",
      "\n",
      "Replacing values based on condition:\n",
      "[[1 2 3]\n",
      " [4 5 0]\n",
      " [0 0 0]]\n",
      "\n",
      "Using any() and all():\n",
      "np.any(arr > 3): True\n",
      "np.all(arr < 6): True\n",
      "\n",
      "np.any(arr_2d > 4, axis=1): [False  True]\n",
      "np.all(arr_2d < 5, axis=0): [ True False False]\n",
      "\n",
      "Checking for NaN, inf, and finite values:\n",
      "np.isnan(arr):\n",
      "[False False  True False False]\n",
      "\n",
      "np.isinf(arr):\n",
      "[False False False  True False]\n",
      "\n",
      "np.isfinite(arr):\n",
      "[ True  True False False  True]\n"
     ]
    }
   ],
   "source": [
    "# Using Conditions for Indexing\n",
    "print(\"\\nIndexing with conditions:\")\n",
    "print(\"arr[arr > 5]:\")\n",
    "print(arr[arr > 5])\n",
    "\n",
    "print(\"\\narr[(arr > 3) & (arr < 8)]:\")\n",
    "print(arr[(arr > 3) & (arr < 8)])\n"
   ]
  },
  {
   "cell_type": "code",
   "execution_count": 30,
   "metadata": {},
   "outputs": [
    {
     "name": "stdout",
     "output_type": "stream",
     "text": [
      "\n",
      "Conditions on 2D arrays:\n",
      "arr_2d > 5:\n",
      "[[False False False]\n",
      " [False False  True]\n",
      " [ True  True  True]]\n",
      "\n",
      "arr_2d[arr_2d > 5]:\n",
      "[6 7 8 9]\n",
      "\n",
      "Replacing values based on condition:\n",
      "[[1 2 3]\n",
      " [4 5 0]\n",
      " [0 0 0]]\n",
      "\n",
      "Using any() and all():\n",
      "np.any(arr > 3): True\n",
      "np.all(arr < 6): True\n",
      "\n",
      "np.any(arr_2d > 4, axis=1): [False  True]\n",
      "np.all(arr_2d < 5, axis=0): [ True False False]\n",
      "\n",
      "Checking for NaN, inf, and finite values:\n",
      "np.isnan(arr):\n",
      "[False False  True False False]\n",
      "\n",
      "np.isinf(arr):\n",
      "[False False False  True False]\n",
      "\n",
      "np.isfinite(arr):\n",
      "[ True  True False False  True]\n"
     ]
    }
   ],
   "source": [
    "\n",
    "# Checking Conditions on 2D Arrays\n",
    "print(\"\\nConditions on 2D arrays:\")\n",
    "arr_2d = np.array([[1, 2, 3], [4, 5, 6], [7, 8, 9]])\n",
    "\n",
    "print(\"arr_2d > 5:\")\n",
    "print(arr_2d > 5)\n",
    "\n",
    "print(\"\\narr_2d[arr_2d > 5]:\")\n",
    "print(arr_2d[arr_2d > 5])\n",
    "\n",
    "print(\"\\nReplacing values based on condition:\")\n",
    "arr_2d[arr_2d > 5] = 0\n",
    "print(arr_2d)\n",
    "\n",
    "# Using any() and all()\n",
    "print(\"\\nUsing any() and all():\")\n",
    "arr = np.array([1, 2, 3, 4, 5])\n",
    "\n",
    "print(\"np.any(arr > 3):\", np.any(arr > 3))\n",
    "print(\"np.all(arr < 6):\", np.all(arr < 6))\n",
    "\n",
    "arr_2d = np.array([[1, 2, 3], [4, 5, 6]])\n",
    "print(\"\\nnp.any(arr_2d > 4, axis=1):\", np.any(arr_2d > 4, axis=1))\n",
    "print(\"np.all(arr_2d < 5, axis=0):\", np.all(arr_2d < 5, axis=0))\n",
    "\n"
   ]
  },
  {
   "cell_type": "code",
   "execution_count": 2,
   "metadata": {},
   "outputs": [
    {
     "name": "stdout",
     "output_type": "stream",
     "text": [
      "3\n",
      "(2, 2, 2)\n"
     ]
    }
   ],
   "source": [
    "import numpy as np\n",
    "\n",
    "arr = np.array([[[1, 2], [3, 4]], [[5, 6], [7, 8]]])\n",
    "print(arr.ndim)  # Output: 3\n",
    "print(arr.shape)"
   ]
  },
  {
   "cell_type": "code",
   "execution_count": 5,
   "metadata": {},
   "outputs": [
    {
     "name": "stdout",
     "output_type": "stream",
     "text": [
      "\n",
      "Checking for NaN, inf, and finite values:\n",
      "np.isnan(arr):\n",
      "[False False  True False False]\n",
      "np.isnan(arr) values:\n",
      "[nan]\n",
      "\n",
      "np.isinf(arr):\n",
      "[False False False  True False]\n",
      "\n",
      "np.isfinite(arr):\n",
      "[ True  True False False  True]\n"
     ]
    }
   ],
   "source": [
    "# Using isnan(), isinf(), and isfinite()\n",
    "print(\"\\nChecking for NaN, inf, and finite values:\")\n",
    "arr = np.array([1, 2, np.nan, np.inf, 5])\n",
    "\n",
    "print(\"np.isnan(arr):\")\n",
    "print(np.isnan(arr))\n",
    "\n",
    "print(\"np.isnan(arr) values:\")\n",
    "print(arr[np.isnan(arr)])\n",
    "\n",
    "print(\"\\nnp.isinf(arr):\")\n",
    "print(np.isinf(arr))\n",
    "\n",
    "print(\"\\nnp.isfinite(arr):\")\n",
    "print(np.isfinite(arr))"
   ]
  },
  {
   "cell_type": "code",
   "execution_count": 33,
   "metadata": {},
   "outputs": [
    {
     "name": "stdout",
     "output_type": "stream",
     "text": [
      "[[5 8 4]\n",
      " [6 2 4]]\n"
     ]
    }
   ],
   "source": [
    "n_array=np.random.randint(1,10,(2,3))\n",
    "print(n_array)"
   ]
  },
  {
   "cell_type": "code",
   "execution_count": 34,
   "metadata": {},
   "outputs": [
    {
     "name": "stdout",
     "output_type": "stream",
     "text": [
      "[11 10  8]\n",
      "[17 12]\n"
     ]
    }
   ],
   "source": [
    "print(n_array.sum(axis=0))\n",
    "print(n_array.sum(axis=1))"
   ]
  },
  {
   "cell_type": "code",
   "execution_count": 36,
   "metadata": {},
   "outputs": [
    {
     "data": {
      "text/plain": [
       "8"
      ]
     },
     "execution_count": 36,
     "metadata": {},
     "output_type": "execute_result"
    }
   ],
   "source": [
    "n_array.max()\n"
   ]
  },
  {
   "cell_type": "code",
   "execution_count": 46,
   "metadata": {},
   "outputs": [
    {
     "name": "stdout",
     "output_type": "stream",
     "text": [
      "Array1 is \n",
      " [[1 9 6]\n",
      " [7 2 8]] Array2 is \n",
      " [[5 3 6]\n",
      " [1 7 4]]\n",
      "[[1 9 6 5 3 6]\n",
      " [7 2 8 1 7 4]]\n",
      "[[1 9 6]\n",
      " [7 2 8]\n",
      " [5 3 6]\n",
      " [1 7 4]]\n"
     ]
    }
   ],
   "source": [
    "array1=np.random.randint(1,10,(2,3))\n",
    "array2=np.random.randint(1,10,(2,3))\n",
    "print('Array1 is \\n', array1, 'Array2 is \\n', array2)\n",
    "print(np.concatenate([array1,array2],axis=1))\n",
    "print(np.concatenate([array1,array2],axis=0))\n"
   ]
  },
  {
   "attachments": {
    "image.png": {
     "image/png": "[encoded data removed]"
    }
   },
   "cell_type": "markdown",
   "metadata": {},
   "source": [
    "![image.png](attachment:image.png)"
   ]
  },
  {
   "attachments": {
    "image.png": {
     "image/png": "[encoded data removed]"
    }
   },
   "cell_type": "markdown",
   "metadata": {},
   "source": [
    "![image.png](attachment:image.png)"
   ]
  },
  {
   "cell_type": "code",
   "execution_count": 6,
   "metadata": {},
   "outputs": [
    {
     "name": "stdout",
     "output_type": "stream",
     "text": [
      "0      1\n",
      "1      6\n",
      "2     11\n",
      "3     16\n",
      "4     21\n",
      "5     26\n",
      "6     31\n",
      "7     36\n",
      "8     41\n",
      "9     46\n",
      "10    51\n",
      "11    56\n",
      "12    61\n",
      "13    66\n",
      "14    71\n",
      "15    76\n",
      "16    81\n",
      "17    86\n",
      "18    91\n",
      "19    96\n",
      "dtype: int64\n",
      "2.2.2\n"
     ]
    }
   ],
   "source": [
    "######################### PANDAS #################################\n",
    "import pandas as pd\n",
    "\n",
    "numbers = range(1,100,5)\n",
    "pd.Series(numbers)\n",
    "print(pd.Series(numbers))\n",
    "\n",
    "print(pd.__version__)"
   ]
  },
  {
   "cell_type": "code",
   "execution_count": 7,
   "metadata": {},
   "outputs": [
    {
     "name": "stdout",
     "output_type": "stream",
     "text": [
      "               0            1        2\n",
      "names      Alice          Bob  Charlie\n",
      "ages          25           30       35\n",
      "cities  New York  Los Angeles  Chicago\n",
      "     names ages       cities\n",
      "0    Alice   25     New York\n",
      "1      Bob   30  Los Angeles\n",
      "2  Charlie   35      Chicago\n"
     ]
    }
   ],
   "source": [
    "import pandas as pd\n",
    "\n",
    "# Define three lists\n",
    "names = ['Alice', 'Bob', 'Charlie']\n",
    "ages = [25, 30, 35]\n",
    "cities = ['New York', 'Los Angeles', 'Chicago']\n",
    "\n",
    "# Create a DataFrame, setting 'names' as the index\n",
    "df = pd.DataFrame([\n",
    "    names,\n",
    "    ages,\n",
    "    cities\n",
    "], index=['names','ages','cities'])\n",
    "\n",
    "# Display the DataFrame\n",
    "print(df)\n",
    "\n",
    "print(df.T)##Transpose\n"
   ]
  },
  {
   "cell_type": "code",
   "execution_count": 54,
   "metadata": {},
   "outputs": [
    {
     "name": "stdout",
     "output_type": "stream",
     "text": [
      "   Age  Weight (in kg)  Height (in m)\n",
      "0   45              60           1.35\n",
      "1   12              43           1.21\n",
      "2   54              78           1.50\n",
      "3   26              65           1.21\n",
      "4   68              50           1.32\n",
      "5   21              43           1.52\n",
      "6   10              32           1.65\n",
      "7   57              34           1.61\n",
      "8   75              23           1.24\n",
      "9   32              21           1.52\n"
     ]
    }
   ],
   "source": [
    "df_basic_info=pd.read_csv('age_weight_height.csv')\n",
    "print(df_basic_info)"
   ]
  },
  {
   "cell_type": "code",
   "execution_count": 55,
   "metadata": {},
   "outputs": [
    {
     "data": {
      "text/html": [
       "<div>\n",
       "<style scoped>\n",
       "    .dataframe tbody tr th:only-of-type {\n",
       "        vertical-align: middle;\n",
       "    }\n",
       "\n",
       "    .dataframe tbody tr th {\n",
       "        vertical-align: top;\n",
       "    }\n",
       "\n",
       "    .dataframe thead th {\n",
       "        text-align: right;\n",
       "    }\n",
       "</style>\n",
       "<table border=\"1\" class=\"dataframe\">\n",
       "  <thead>\n",
       "    <tr style=\"text-align: right;\">\n",
       "      <th></th>\n",
       "      <th>Age</th>\n",
       "      <th>Weight (in kg)</th>\n",
       "      <th>Height (in m)</th>\n",
       "    </tr>\n",
       "  </thead>\n",
       "  <tbody>\n",
       "    <tr>\n",
       "      <th>5</th>\n",
       "      <td>21</td>\n",
       "      <td>43</td>\n",
       "      <td>1.52</td>\n",
       "    </tr>\n",
       "    <tr>\n",
       "      <th>6</th>\n",
       "      <td>10</td>\n",
       "      <td>32</td>\n",
       "      <td>1.65</td>\n",
       "    </tr>\n",
       "    <tr>\n",
       "      <th>7</th>\n",
       "      <td>57</td>\n",
       "      <td>34</td>\n",
       "      <td>1.61</td>\n",
       "    </tr>\n",
       "    <tr>\n",
       "      <th>8</th>\n",
       "      <td>75</td>\n",
       "      <td>23</td>\n",
       "      <td>1.24</td>\n",
       "    </tr>\n",
       "    <tr>\n",
       "      <th>9</th>\n",
       "      <td>32</td>\n",
       "      <td>21</td>\n",
       "      <td>1.52</td>\n",
       "    </tr>\n",
       "  </tbody>\n",
       "</table>\n",
       "</div>"
      ],
      "text/plain": [
       "   Age  Weight (in kg)  Height (in m)\n",
       "5   21              43           1.52\n",
       "6   10              32           1.65\n",
       "7   57              34           1.61\n",
       "8   75              23           1.24\n",
       "9   32              21           1.52"
      ]
     },
     "execution_count": 55,
     "metadata": {},
     "output_type": "execute_result"
    }
   ],
   "source": [
    "df_basic_info.head()\n"
   ]
  },
  {
   "cell_type": "code",
   "execution_count": 57,
   "metadata": {},
   "outputs": [
    {
     "data": {
      "text/html": [
       "<div>\n",
       "<style scoped>\n",
       "    .dataframe tbody tr th:only-of-type {\n",
       "        vertical-align: middle;\n",
       "    }\n",
       "\n",
       "    .dataframe tbody tr th {\n",
       "        vertical-align: top;\n",
       "    }\n",
       "\n",
       "    .dataframe thead th {\n",
       "        text-align: right;\n",
       "    }\n",
       "</style>\n",
       "<table border=\"1\" class=\"dataframe\">\n",
       "  <thead>\n",
       "    <tr style=\"text-align: right;\">\n",
       "      <th></th>\n",
       "      <th>Age</th>\n",
       "      <th>Weight (in kg)</th>\n",
       "      <th>Height (in m)</th>\n",
       "    </tr>\n",
       "  </thead>\n",
       "  <tbody>\n",
       "    <tr>\n",
       "      <th>0</th>\n",
       "      <td>45</td>\n",
       "      <td>60</td>\n",
       "      <td>1.35</td>\n",
       "    </tr>\n",
       "    <tr>\n",
       "      <th>1</th>\n",
       "      <td>12</td>\n",
       "      <td>43</td>\n",
       "      <td>1.21</td>\n",
       "    </tr>\n",
       "    <tr>\n",
       "      <th>2</th>\n",
       "      <td>54</td>\n",
       "      <td>78</td>\n",
       "      <td>1.50</td>\n",
       "    </tr>\n",
       "    <tr>\n",
       "      <th>3</th>\n",
       "      <td>26</td>\n",
       "      <td>65</td>\n",
       "      <td>1.21</td>\n",
       "    </tr>\n",
       "    <tr>\n",
       "      <th>4</th>\n",
       "      <td>68</td>\n",
       "      <td>50</td>\n",
       "      <td>1.32</td>\n",
       "    </tr>\n",
       "    <tr>\n",
       "      <th>5</th>\n",
       "      <td>21</td>\n",
       "      <td>43</td>\n",
       "      <td>1.52</td>\n",
       "    </tr>\n",
       "    <tr>\n",
       "      <th>6</th>\n",
       "      <td>10</td>\n",
       "      <td>32</td>\n",
       "      <td>1.65</td>\n",
       "    </tr>\n",
       "    <tr>\n",
       "      <th>7</th>\n",
       "      <td>57</td>\n",
       "      <td>34</td>\n",
       "      <td>1.61</td>\n",
       "    </tr>\n",
       "    <tr>\n",
       "      <th>8</th>\n",
       "      <td>75</td>\n",
       "      <td>23</td>\n",
       "      <td>1.24</td>\n",
       "    </tr>\n",
       "    <tr>\n",
       "      <th>9</th>\n",
       "      <td>32</td>\n",
       "      <td>21</td>\n",
       "      <td>1.52</td>\n",
       "    </tr>\n",
       "  </tbody>\n",
       "</table>\n",
       "</div>"
      ],
      "text/plain": [
       "   Age  Weight (in kg)  Height (in m)\n",
       "0   45              60           1.35\n",
       "1   12              43           1.21\n",
       "2   54              78           1.50\n",
       "3   26              65           1.21\n",
       "4   68              50           1.32\n",
       "5   21              43           1.52\n",
       "6   10              32           1.65\n",
       "7   57              34           1.61\n",
       "8   75              23           1.24\n",
       "9   32              21           1.52"
      ]
     },
     "execution_count": 57,
     "metadata": {},
     "output_type": "execute_result"
    }
   ],
   "source": [
    "df_basic_info.tail(10)"
   ]
  },
  {
   "cell_type": "code",
   "execution_count": 61,
   "metadata": {},
   "outputs": [
    {
     "data": {
      "text/plain": [
       "(10, 4)"
      ]
     },
     "execution_count": 61,
     "metadata": {},
     "output_type": "execute_result"
    }
   ],
   "source": [
    "df_basic_info[\"BMI\"] = df_basic_info[\"Weight (in kg)\"] / df_basic_info[\"Height (in m)\"]**2\n",
    "df_basic_info.head()\n",
    "df_basic_info.shape"
   ]
  },
  {
   "cell_type": "code",
   "execution_count": 62,
   "metadata": {},
   "outputs": [
    {
     "name": "stdout",
     "output_type": "stream",
     "text": [
      "    Age  Weight (in kg)  Height (in m)        BMI\n",
      "0    45              60           1.35  32.921811\n",
      "1    12              43           1.21  29.369579\n",
      "2    54              78           1.50  34.666667\n",
      "3    26              65           1.21  44.395875\n",
      "4    68              50           1.32  28.696051\n",
      "5    21              43           1.52  18.611496\n",
      "6    10              32           1.65  11.753903\n",
      "7    57              34           1.61  13.116778\n",
      "8    75              23           1.24  14.958377\n",
      "9    32              21           1.52   9.089335\n",
      "10   40              70           1.60        NaN\n"
     ]
    }
   ],
   "source": [
    "# Define the new row data\n",
    "new_row_data = {'Age': 40, 'Weight (in kg)': 70, 'Height (in m)': 1.60}\n",
    "\n",
    "# Use loc to add the new row\n",
    "df_basic_info.loc[len(df_basic_info)] = new_row_data\n",
    "print(df_basic_info)\n"
   ]
  },
  {
   "cell_type": "code",
   "execution_count": 74,
   "metadata": {},
   "outputs": [
    {
     "name": "stdout",
     "output_type": "stream",
     "text": [
      "   Age  Weight (in kg)  Height (in m)    BMI\n",
      "0   25              55           1.65  20.20\n",
      "1   32              85           1.80  26.23\n",
      "2   45              95           1.75  31.02\n",
      "3   20              80           1.70  27.68\n"
     ]
    }
   ],
   "source": [
    "import pandas as pd\n",
    "\n",
    "# Define the function to calculate BMI\n",
    "def calculate_bmi(weight_kg, height_m):\n",
    "    if height_m <= 0:\n",
    "        raise ValueError(\"Height must be greater than zero\")\n",
    "    \n",
    "    bmi = weight_kg / (height_m ** 2)\n",
    "    return round(bmi, 2)\n",
    "\n",
    "# Create example data\n",
    "data = {\n",
    "    'Age': [25, 32, 45],\n",
    "    'Weight (in kg)': [55, 85, 95],\n",
    "    'Height (in m)': [1.65, 1.80, 1.75],\n",
    "    'BMI': [calculate_bmi(55, 1.65), calculate_bmi(85, 1.80), calculate_bmi(95, 1.75)]\n",
    "}\n",
    "\n"
   ]
  },
  {
   "cell_type": "code",
   "execution_count": 81,
   "metadata": {},
   "outputs": [
    {
     "name": "stdout",
     "output_type": "stream",
     "text": [
      "   Age  Weight (in kg)  Height (in m)    BMI\n",
      "0   25              55           1.65  20.20\n",
      "1   32              85           1.80  26.23\n",
      "2   45              95           1.75  31.02\n",
      "4   15              62           1.40  31.63\n"
     ]
    }
   ],
   "source": [
    "# Create DataFrame\n",
    "df_basic_info = pd.DataFrame(data)\n",
    "\n",
    "# Define the new row data\n",
    "new_row_data = {\n",
    "    'Age': 15,\n",
    "    'Weight (in kg)': 62,\n",
    "    'Height (in m)': 1.40\n",
    "}\n",
    "\n",
    "# Dynamically calculate BMI for the new row\n",
    "new_row_data['BMI'] = calculate_bmi(new_row_data['Weight (in kg)'], new_row_data['Height (in m)'])\n",
    "\n",
    "# Use loc to add the new row\n",
    "df_basic_info.appen = new_row_data\n",
    "\n",
    "# Display the DataFrame with the newly added row\n",
    "print(df_basic_info)\n"
   ]
  },
  {
   "cell_type": "code",
   "execution_count": 73,
   "metadata": {},
   "outputs": [
    {
     "data": {
      "text/html": [
       "<div>\n",
       "<style scoped>\n",
       "    .dataframe tbody tr th:only-of-type {\n",
       "        vertical-align: middle;\n",
       "    }\n",
       "\n",
       "    .dataframe tbody tr th {\n",
       "        vertical-align: top;\n",
       "    }\n",
       "\n",
       "    .dataframe thead th {\n",
       "        text-align: right;\n",
       "    }\n",
       "</style>\n",
       "<table border=\"1\" class=\"dataframe\">\n",
       "  <thead>\n",
       "    <tr style=\"text-align: right;\">\n",
       "      <th></th>\n",
       "      <th>Age</th>\n",
       "      <th>Weight (in kg)</th>\n",
       "      <th>Height (in m)</th>\n",
       "      <th>BMI</th>\n",
       "    </tr>\n",
       "  </thead>\n",
       "  <tbody>\n",
       "    <tr>\n",
       "      <th>0</th>\n",
       "      <td>25</td>\n",
       "      <td>55</td>\n",
       "      <td>1.65</td>\n",
       "      <td>20.20</td>\n",
       "    </tr>\n",
       "    <tr>\n",
       "      <th>1</th>\n",
       "      <td>32</td>\n",
       "      <td>85</td>\n",
       "      <td>1.80</td>\n",
       "      <td>26.23</td>\n",
       "    </tr>\n",
       "    <tr>\n",
       "      <th>2</th>\n",
       "      <td>45</td>\n",
       "      <td>95</td>\n",
       "      <td>1.75</td>\n",
       "      <td>31.02</td>\n",
       "    </tr>\n",
       "    <tr>\n",
       "      <th>3</th>\n",
       "      <td>50</td>\n",
       "      <td>90</td>\n",
       "      <td>1.70</td>\n",
       "      <td>31.14</td>\n",
       "    </tr>\n",
       "  </tbody>\n",
       "</table>\n",
       "</div>"
      ],
      "text/plain": [
       "   Age  Weight (in kg)  Height (in m)    BMI\n",
       "0   25              55           1.65  20.20\n",
       "1   32              85           1.80  26.23\n",
       "2   45              95           1.75  31.02\n",
       "3   50              90           1.70  31.14"
      ]
     },
     "execution_count": 73,
     "metadata": {},
     "output_type": "execute_result"
    }
   ],
   "source": [
    "df_basic_info.sort_values(\"Age\",ascending=2)"
   ]
  }
 ],
 "metadata": {
  "kernelspec": {
   "display_name": "Python 3",
   "language": "python",
   "name": "python3"
  },
  "language_info": {
   "codemirror_mode": {
    "name": "ipython",
    "version": 3
   },
   "file_extension": ".py",
   "mimetype": "text/x-python",
   "name": "python",
   "nbconvert_exporter": "python",
   "pygments_lexer": "ipython3",
   "version": "3.12.3"
  }
 },
 "nbformat": 4,
 "nbformat_minor": 2
}
