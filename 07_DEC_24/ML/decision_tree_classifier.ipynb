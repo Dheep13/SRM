{
 "cells": [
  {
   "cell_type": "code",
   "execution_count": null,
   "metadata": {},
   "outputs": [],
   "source": [
    "import pandas as pd\n",
    "import numpy as np\n",
    "from sklearn.datasets import load_iris\n",
    "from sklearn.tree import DecisionTreeClassifier, plot_tree\n",
    "from sklearn.model_selection import train_test_split\n",
    "import matplotlib.pyplot as plt\n",
    "\n",
    "# Load the iris dataset\n",
    "iris = load_iris()\n",
    "X = pd.DataFrame(iris.data, columns=iris.feature_names)\n",
    "y = iris.target\n",
    "\n",
    "# Split the data\n",
    "X_train, X_test, y_train, y_test = train_test_split(X, y, test_size=0.2, random_state=42)\n",
    "\n",
    "# Create and train the decision tree\n",
    "dt = DecisionTreeClassifier(max_depth=3, random_state=42)\n",
    "dt.fit(X_train, y_train)\n",
    "\n",
    "# Create visualization\n",
    "plt.figure(figsize=(20,10))\n",
    "plot_tree(dt, feature_names=iris.feature_names, \n",
    "          class_names=iris.target_names, \n",
    "          filled=True, rounded=True)\n",
    "plt.title(\"Decision Tree for Iris Dataset\")\n",
    "plt.show()\n",
    "\n",
    "# Print model accuracy\n",
    "print(f\"Training Accuracy: {dt.score(X_train, y_train):.3f}\")\n",
    "print(f\"Testing Accuracy: {dt.score(X_test, y_test):.3f}\")\n",
    "\n",
    "# Print feature importance\n",
    "feature_importance = pd.DataFrame({\n",
    "    'feature': iris.feature_names,\n",
    "    'importance': dt.feature_importances_\n",
    "})\n",
    "print(\"\\nFeature Importance:\")\n",
    "print(feature_importance.sort_values('importance', ascending=False))\n",
    "\n",
    "# Make predictions\n",
    "sample_prediction = dt.predict([[5.1, 3.5, 1.4, 0.2]])\n",
    "print(f\"\\nSample Prediction: {iris.target_names[sample_prediction[0]]}\")"
   ]
  }
 ],
 "metadata": {
  "language_info": {
   "name": "python"
  }
 },
 "nbformat": 4,
 "nbformat_minor": 2
}
